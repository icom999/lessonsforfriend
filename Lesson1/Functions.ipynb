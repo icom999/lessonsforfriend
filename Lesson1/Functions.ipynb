{
 "cells": [
  {
   "cell_type": "markdown",
   "metadata": {},
   "source": [
    "### Создание функций на языке Python"
   ]
  },
  {
   "cell_type": "code",
   "execution_count": 37,
   "metadata": {},
   "outputs": [
    {
     "name": "stdout",
     "output_type": "stream",
     "text": [
      "Здравствуй :  Вася\n",
      "Здравствуй :  Петя\n"
     ]
    }
   ],
   "source": [
    "# Для примера создадим функцию которая выводит приветстивие\n",
    "def print_welcome(name):\n",
    "    \"\"\"Эта функция выводит привестсвие на экран\"\"\"\n",
    "    print(\"Здравствуй : \",name)\n",
    "    \n",
    "    \n",
    "name = 'Вася'\n",
    "print_welcome(name)\n",
    "print_welcome('Петя')"
   ]
  },
  {
   "cell_type": "markdown",
   "metadata": {},
   "source": [
    "Это удобная функция если нам необходимо выводить привествие несколько раз в нашей программе.  \n",
    "(_чтобы не писать каждый раз один и тот же код_)  \n",
    "При создании фунции нам надо обратить внимание :  \n",
    "1. Название функции должно соответсвовать её назначению\n",
    "2. Передаваемые параметры должны отражать суть функции. Как по назанию параметра `name` мы легко догадываемся для чего этот параметр.\n",
    "3. Мы поместили коментарий в самой функции описывающий чтоже делает наша функция\n",
    "4. Функция начинаеться с зарезервированного слова `def` "
   ]
  },
  {
   "cell_type": "markdown",
   "metadata": {},
   "source": [
    "## Переменные в теле функции"
   ]
  },
  {
   "cell_type": "code",
   "execution_count": 13,
   "metadata": {},
   "outputs": [
    {
     "name": "stdout",
     "output_type": "stream",
     "text": [
      "Здравствуй :  Иван\n",
      "иван\n"
     ]
    }
   ],
   "source": [
    "# создадим другую функцию \n",
    "name = 'иван'\n",
    "def print_welcome2(name):\n",
    "    \"\"\"Эта функция проверит написано ли имя с Большой буквы\n",
    "    и также выведет привествие\n",
    "    \"\"\"\n",
    "    # в этом примере мы пока не обрабатываем исключения. Об обработки исключений пойдет позже\n",
    "    first_letter = name[0]\n",
    "    if first_letter.islower():\n",
    "        name = first_letter.upper() + name[1:]\n",
    "    print(\"Здравствуй : \",name)\n",
    "    \n",
    "#Заметим что у нас уже есть переменная \"name\" и имя этой переменной совпадает с именем параметра в нашей функции\n",
    "print_welcome2(name)\n",
    "print(name)"
   ]
  },
  {
   "cell_type": "code",
   "execution_count": 14,
   "metadata": {},
   "outputs": [
    {
     "ename": "NameError",
     "evalue": "name 'first_letter' is not defined",
     "output_type": "error",
     "traceback": [
      "\u001b[1;31m---------------------------------------------------------------------------\u001b[0m",
      "\u001b[1;31mNameError\u001b[0m                                 Traceback (most recent call last)",
      "\u001b[1;32m<ipython-input-14-fcb168043527>\u001b[0m in \u001b[0;36m<module>\u001b[1;34m\u001b[0m\n\u001b[0;32m      1\u001b[0m \u001b[1;31m# мы создали переменную first_letter внутри функции, но эта переменная не будет видна вне функции\u001b[0m\u001b[1;33m\u001b[0m\u001b[1;33m\u001b[0m\u001b[1;33m\u001b[0m\u001b[0m\n\u001b[1;32m----> 2\u001b[1;33m \u001b[0mfirst_letter\u001b[0m\u001b[1;33m\u001b[0m\u001b[1;33m\u001b[0m\u001b[0m\n\u001b[0m",
      "\u001b[1;31mNameError\u001b[0m: name 'first_letter' is not defined"
     ]
    }
   ],
   "source": [
    "# мы создали переменную first_letter внутри функции, но эта переменная не будет видна вне функции\n",
    "first_letter"
   ]
  },
  {
   "cell_type": "markdown",
   "metadata": {},
   "source": [
    "_здесь мы могли заметить , что мы изменили переменую_ `name` _в теле функции. Но это не повлияло на саму переменную вне функции._"
   ]
  },
  {
   "cell_type": "code",
   "execution_count": 11,
   "metadata": {},
   "outputs": [
    {
     "name": "stdout",
     "output_type": "stream",
     "text": [
      "Глобальная переменная вначале :  0\n",
      "Результат нашей функции :  310\n",
      "Глобальная переменая после :  10\n"
     ]
    }
   ],
   "source": [
    "# создадим функцию которая использует глобальную переменую внутри самой функции\n",
    "base_number = 0\n",
    "def mult_by_global(num):\n",
    "    \"\"\"Умножение числа на число из глобальной переменной(вне функции) \"\"\"\n",
    "    global base_number\n",
    "    if base_number == 0:\n",
    "        base_number = 10\n",
    "    return num * base_number\n",
    "\n",
    "print(\"Глобальная переменная вначале : \",base_number)\n",
    "print(\"Результат нашей функции : \",mult_by_global(31))\n",
    "print(\"Глобальная переменая после : \",base_number)"
   ]
  },
  {
   "cell_type": "markdown",
   "metadata": {},
   "source": [
    "Но у такого способа работы с глобальными переменным есть свои недостатки :  \n",
    "1. Функцию нельзя скопировать и поместить в другую программу, тк придеться копировать также саму глобальную переменную\n",
    "2. Возможно мы не расчитываем что функция должна изменять глобальную переменную и тогда у нас появяться ошибки"
   ]
  },
  {
   "cell_type": "code",
   "execution_count": 12,
   "metadata": {},
   "outputs": [
    {
     "name": "stdout",
     "output_type": "stream",
     "text": [
      "Имя :  \n"
     ]
    }
   ],
   "source": [
    "# Функция не может менять по значению значение переменной переданной в фукнцию в качестве параметра\n",
    "name = ''\n",
    "def assign_name(name):\n",
    "    \"\"\"Присвоение имени по умолчанию(не будет работать!)\"\"\"\n",
    "    if name == '':\n",
    "        name = 'Имя по умолчанию.'\n",
    "\n",
    "assign_name(name)\n",
    "print(\"Имя : \",name)"
   ]
  },
  {
   "cell_type": "markdown",
   "metadata": {},
   "source": [
    "Для того чтобы функция меняла значения, там надо передать `object` и в самом объекте сделать логику для изменения переменных объекта.  \n",
    "_Но об этом в другом примере_"
   ]
  },
  {
   "cell_type": "code",
   "execution_count": 38,
   "metadata": {},
   "outputs": [
    {
     "name": "stdout",
     "output_type": "stream",
     "text": [
      "[1, 2, 3, 4, 5, 6, 7, 8, 9]\n"
     ]
    }
   ],
   "source": [
    "# хотя воспользуемся готовыми объектами, такими как список\n",
    "array1 = []\n",
    "def init_array(list_a):\n",
    "    \"\"\"Инициализация списка\"\"\"\n",
    "    for n in range(1,10):\n",
    "        list_a.append(n)\n",
    "\n",
    "\n",
    "init_array(array1)\n",
    "print(array1)"
   ]
  },
  {
   "cell_type": "code",
   "execution_count": 39,
   "metadata": {},
   "outputs": [
    {
     "name": "stdout",
     "output_type": "stream",
     "text": [
      "(1) Петя цвет : Желтый \n",
      "(10) Иван цвет : red \n",
      "(10) Вася цвет : red \n"
     ]
    }
   ],
   "source": [
    "# Теперь посмотрим на передачу параметров в другую функцию\n",
    "\n",
    "def lazy_foo(number,name,color='red',):\n",
    "    \"\"\"Эта ленивая функция которая ничего по сути дела не делает!\"\"\"\n",
    "    # Мы разберем параметры у параметра color есть значение по умолчанию! \n",
    "    print(\"({}) {} цвет : {} \".format(number,name,color))\n",
    "\n",
    "# Обычно мы предпологаем что мы передадим в функцию все названные параметры \n",
    "lazy_foo(1,'Петя','Желтый')\n",
    "# мы также обычно передаем в той последовательности что указана в функции можно не передавать параметер со значеним по умолчанию \n",
    "lazy_foo(10,'Иван')\n",
    "# также можно поменять местами, именные параметры и таже опускаеам цвет\n",
    "lazy_foo(name='Вася',number=10)\n",
    "# и если мы хотябы один параметер упустим , то это вызовет ошибку\n",
    "#lazy_foo(name='Вася')\n",
    "    "
   ]
  },
  {
   "cell_type": "markdown",
   "metadata": {},
   "source": [
    "### Заключение"
   ]
  },
  {
   "cell_type": "code",
   "execution_count": 15,
   "metadata": {},
   "outputs": [
    {
     "name": "stdout",
     "output_type": "stream",
     "text": [
      "<function assign_name at 0x00000274584D3A60>\n"
     ]
    }
   ],
   "source": [
    "# мы можем посмотреть как описана наша функция\n",
    "print(assign_name)"
   ]
  },
  {
   "cell_type": "code",
   "execution_count": 16,
   "metadata": {},
   "outputs": [
    {
     "name": "stdout",
     "output_type": "stream",
     "text": [
      "['__annotations__', '__call__', '__class__', '__closure__', '__code__', '__defaults__', '__delattr__', '__dict__', '__dir__', '__doc__', '__eq__', '__format__', '__ge__', '__get__', '__getattribute__', '__globals__', '__gt__', '__hash__', '__init__', '__init_subclass__', '__kwdefaults__', '__le__', '__lt__', '__module__', '__name__', '__ne__', '__new__', '__qualname__', '__reduce__', '__reduce_ex__', '__repr__', '__setattr__', '__sizeof__', '__str__', '__subclasshook__']\n"
     ]
    }
   ],
   "source": [
    "print(dir(assign_name))"
   ]
  },
  {
   "cell_type": "code",
   "execution_count": null,
   "metadata": {},
   "outputs": [],
   "source": []
  }
 ],
 "metadata": {
  "kernelspec": {
   "display_name": "Python 3",
   "language": "python",
   "name": "python3"
  },
  "language_info": {
   "codemirror_mode": {
    "name": "ipython",
    "version": 3
   },
   "file_extension": ".py",
   "mimetype": "text/x-python",
   "name": "python",
   "nbconvert_exporter": "python",
   "pygments_lexer": "ipython3",
   "version": "3.7.6"
  }
 },
 "nbformat": 4,
 "nbformat_minor": 2
}
