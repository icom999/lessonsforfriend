{
 "cells": [
  {
   "cell_type": "markdown",
   "metadata": {},
   "source": [
    "### Задание для создания консольной игры \"Угадай число!\""
   ]
  },
  {
   "cell_type": "code",
   "execution_count": 1,
   "metadata": {},
   "outputs": [],
   "source": [
    "import datetime\n",
    "import random"
   ]
  },
  {
   "cell_type": "markdown",
   "metadata": {},
   "source": [
    "Вначале нам необходимо сгенерировать случайное число от 0-10  \n",
    "Это можно сделать несколькими способами.  \n",
    "Используя библиотеки Питона.  \n",
    "А можно попробовать использовать _некую комбинацию_ из даты и времени в пределах интервала 0-10. "
   ]
  },
  {
   "cell_type": "code",
   "execution_count": 2,
   "metadata": {},
   "outputs": [],
   "source": [
    "#мы получаем время и дату\n",
    "dt_now = datetime.datetime.now()\n",
    "#мы получаем только дату\n",
    "date_now = datetime.date.today()\n",
    "# мы могли бы задать , чтобы число всегда было одним и тем же, но по условию задания мы этого делать не будем\n",
    "# random.seed(9)\n",
    "# получаем случайное число \n",
    "number_of_thegame = random.randint(0,10)\n"
   ]
  },
  {
   "cell_type": "code",
   "execution_count": 3,
   "metadata": {},
   "outputs": [
    {
     "name": "stdout",
     "output_type": "stream",
     "text": [
      "2020-04-24 06:49:35.920939\n",
      "2\n"
     ]
    }
   ],
   "source": [
    "print(dt_now)\n",
    "print(number_of_thegame)"
   ]
  },
  {
   "cell_type": "markdown",
   "metadata": {},
   "source": [
    "так как для этого задания важно не употребление готовых библиотек Питона  \n",
    "а попробовать самому поиграть с логикой Питона и вывести случайное число"
   ]
  },
  {
   "cell_type": "code",
   "execution_count": 61,
   "metadata": {},
   "outputs": [
    {
     "data": {
      "text/plain": [
       "717296"
      ]
     },
     "execution_count": 61,
     "metadata": {},
     "output_type": "execute_result"
    }
   ],
   "source": [
    "max_num = 10\n",
    "min_num = 1\n",
    "mm = dt_now.month\n",
    "dd = dt_now.day\n",
    "hh = dt_now.hour\n",
    "m = dt_now.minute\n",
    "ss = dt_now.second\n",
    "sss = dt_now.microsecond\n",
    "\n",
    "#1-12\n",
    "mm = mm // max_num\n",
    "#1-31\n",
    "dd = dd // max_num\n",
    "#1-24\n",
    "hh = hh // max_num\n",
    "#1-60\n",
    "m  = m  // max_num\n",
    "#1-60\n",
    "ss = ss // max_num\n",
    "sss"
   ]
  },
  {
   "cell_type": "code",
   "execution_count": 41,
   "metadata": {},
   "outputs": [
    {
     "data": {
      "text/plain": [
       "9"
      ]
     },
     "execution_count": 41,
     "metadata": {},
     "output_type": "execute_result"
    }
   ],
   "source": [
    "sum_num = mm + dd + hh + m + ss\n",
    "number1 = 0\n",
    "if sum_num < min_num:\n",
    "    number1 = sum_num + min_num\n",
    "elif sum_num > max_num:\n",
    "    number1 = sum_num // max_num # здесь мы предположим что сумма не может быть больше 100 тк(1 + 3 + 2 + 6 + 6)\n",
    "else:\n",
    "    number1 = sum_num\n",
    "number1"
   ]
  },
  {
   "cell_type": "markdown",
   "metadata": {},
   "source": [
    "Но тогда у нас будет легко угадать _зная или предположив_ этот простой алгоритм!  \n",
    "Те если расчитать сколько будет случайностей _предлогаю сделать некий анализ таких случайностей_ прямо на Питоне!"
   ]
  },
  {
   "cell_type": "code",
   "execution_count": 45,
   "metadata": {},
   "outputs": [],
   "source": [
    "# Постановка иследования нашего алгоритма!\n",
    "# Вначале наш алгоритм нам нужно выделить в функцию , чтобы иметь возможность вызывать ее любое количество раз\n",
    "# далее мы будем передавать комбинации пределов Month Day Hour Minute Second сгенерировав псевдо дату из них\n",
    "# и мы в итоге получим вероятность... Но мы пока еще не изучали тонкостей определения вероятности с использованием Питона\n",
    "# те определить на сколько будет интересно играть, те как часто случайное число будет изменяться в реальности в нашей ф-ции зависящей от даты\n",
    "\n",
    "# На этом этапе мы просто оставляем такое иследование алгоритма за пределами нашего задания, хотя можно и попробовать"
   ]
  },
  {
   "cell_type": "code",
   "execution_count": 64,
   "metadata": {},
   "outputs": [
    {
     "name": "stdout",
     "output_type": "stream",
     "text": [
      "Случайное число сгенерированное нашей функцией :  4\n"
     ]
    }
   ],
   "source": [
    "# подсказка если нам еще использовать милисекунды и попробовать комбинировать две пары(мсек и месяц) (мсек и день) (час и минута)..\n",
    "# то можно составить интересный алгоритм у которого (алгоритм для милисекунд включая) будет другая скорость изменения случайного числа\n",
    "\n",
    "# создание функции в Питоне (эту функцию можно изменить)\n",
    "def generate_ran_number(dt,min_num,max_num):\n",
    "    \"\"\"Генерирует случайное число из даты и времени и переданного предела\"\"\"\n",
    "    \n",
    "    number = 0\n",
    "    # проверка вводимых параметров - опустим\n",
    "    \n",
    "    # тело функции. важно отметить отступы, как и везде в Питоне\n",
    "    #IndentationError: unindent does not match any outer indentation level\n",
    "    \n",
    "    #1-12 принимает значания\n",
    "    mm = dt.month\n",
    "    #1-31 принимает значания\n",
    "    dd = dt.day\n",
    "    #1-24 принимает значания\n",
    "    hh = dt.hour\n",
    "    #1-60 принимает значания\n",
    "    m = dt.minute\n",
    "    #1-60 принимает значания\n",
    "    ss = dt.second\n",
    "    #1-999999 принимает значания\n",
    "    sss = dt.microsecond\n",
    "\n",
    "    \n",
    "    mm = sss // mm\n",
    "    \n",
    "    dd = sss // dd\n",
    "    \n",
    "    hh = m // hh\n",
    "    \n",
    "    m = ss  // m\n",
    "    \n",
    "    ss = sss // ss\n",
    "    \n",
    "    sum_num = mm + dd + hh + m + ss\n",
    "    \n",
    "    while(sum_num > max_num):\n",
    "        sum_num = sum_num // max_num\n",
    "\n",
    "    if sum_num < min_num:\n",
    "        number = sum_num + min_num\n",
    "    else:\n",
    "        number = sum_num\n",
    "    return number\n",
    "\n",
    "# вызов нашей функции\n",
    "n = generate_ran_number(datetime.datetime.now(),0,10)\n",
    "print(\"Случайное число сгенерированное нашей функцией : \", n)"
   ]
  },
  {
   "cell_type": "markdown",
   "metadata": {},
   "source": [
    "Надо отметить что расширение для задания канечно надо писать с использованием стандартных функций Питона  \n",
    "__import__ random  \n",
    "number_of_thegame = random.randint(0,10)"
   ]
  },
  {
   "cell_type": "markdown",
   "metadata": {},
   "source": [
    "##         ИТОГО   вот то чем мы можем воспользоваться для написание этой игры!"
   ]
  }
 ],
 "metadata": {
  "kernelspec": {
   "display_name": "Python 3",
   "language": "python",
   "name": "python3"
  },
  "language_info": {
   "codemirror_mode": {
    "name": "ipython",
    "version": 3
   },
   "file_extension": ".py",
   "mimetype": "text/x-python",
   "name": "python",
   "nbconvert_exporter": "python",
   "pygments_lexer": "ipython3",
   "version": "3.7.6"
  }
 },
 "nbformat": 4,
 "nbformat_minor": 2
}
