{
 "cells": [
  {
   "cell_type": "markdown",
   "metadata": {},
   "source": [
    "### Классы и объекты"
   ]
  },
  {
   "cell_type": "markdown",
   "metadata": {},
   "source": [
    "На демострации Functions мы видели как создаются функции и отметили что Python не может передавать простые переменные как ссылки.  \n",
    "\n",
    "И на помощь нам приходят классы.  \n",
    "Класс это не больше чем шаблон для создания кода, чтобы не печатать одно и тоже (есть что-то общее с функцией). Но класс может не только облегчает написание одного и того же кода, но и может делать копии \"переменных\" со всеми свойствами и методами.  \n",
    "Такие копии называются объектами класса(шаблона кода) и при изменении свойств одного объекта, другой остается неизменным"
   ]
  },
  {
   "cell_type": "code",
   "execution_count": 1,
   "metadata": {},
   "outputs": [],
   "source": [
    "import random\n",
    "from IPython.display import Markdown"
   ]
  },
  {
   "cell_type": "code",
   "execution_count": 2,
   "metadata": {},
   "outputs": [
    {
     "name": "stdout",
     "output_type": "stream",
     "text": [
      "Шар : красный диаметром 10\n",
      "Шар : синий диаметром 20\n"
     ]
    }
   ],
   "source": [
    "#создадим шар\n",
    "class Ball:\n",
    "    \"\"\"Класс- шаблон шара\"\"\"\n",
    "    \n",
    "    def __init__(self,diameter,color):\n",
    "        \"\"\"Конструктор класса. Обязательный при создании класса\"\"\"\n",
    "        self.diameter = diameter\n",
    "        self.color = color\n",
    "        \n",
    "    def about(self):\n",
    "        \"\"\"Выводит информацию о шаре\"\"\"\n",
    "        return \"Шар : %s диаметром %s\"%(self.color,self.diameter)\n",
    "red_ball = Ball(10,'красный')\n",
    "blue_ball = Ball(20,'синий')\n",
    "print(red_ball.about())\n",
    "print(blue_ball.about())"
   ]
  },
  {
   "cell_type": "code",
   "execution_count": 3,
   "metadata": {},
   "outputs": [],
   "source": [
    "# пока это наглядно как пример как создавать класс , но практически как и зачем мы можем это использовать?\n",
    "\n",
    "# Сейчас класс Шара не очень то полезен, но вот если нам нужно создавать несколько шаров и манипулировать ими в программе\n",
    "\n",
    "# мы можем не меняя исходного класса Шара добавить к нему то что нам сейчас понадобиться\n",
    "class BallWithPosition(Ball):\n",
    "    \"\"\"Вот мы копируем шаблон основного класса шара - называеться наследием\n",
    "    и добавим к шаблону другие свойства позиции\n",
    "    \"\"\"\n",
    "    def __init__(self,number,color,diameter=10):\n",
    "        \"\"\"Конструктор нашего субкласса. Мы здесь закрываем конструктор основного класса Шар\"\"\"\n",
    "        self.color = color\n",
    "        self.diameter = diameter\n",
    "        self.position = 0\n",
    "        self.number = number\n",
    "        \n",
    "    def speed(self,new_speed):\n",
    "        \"\"\"Обновляем скорость шара\"\"\"\n",
    "        self.ball_speed = new_speed\n",
    "        \n",
    "    def update_pos(self,new_pos):\n",
    "        \"\"\"Меняем позицию\"\"\"\n",
    "        self.position = new_pos\n",
    "        \n",
    "    def fire(self):\n",
    "        \"\"\"Здесь мы покажем где на горизонтали шар находиться\"\"\"\n",
    "        tmp = ''\n",
    "        for n in range(1,self.position):\n",
    "            tmp += '&nbsp;'\n",
    "        \n",
    "        display(Markdown('<span style=\"color: '+ self.color +'\">'+ tmp +'('+ str(self.number) +')</span>'))\n",
    "        #print(\"{}({})\".format(tmp,self.number))\n",
    "\n"
   ]
  },
  {
   "cell_type": "code",
   "execution_count": 6,
   "metadata": {},
   "outputs": [
    {
     "data": {
      "text/markdown": [
       "<span style=\"color: #ff5733\">&nbsp;&nbsp;&nbsp;&nbsp;&nbsp;&nbsp;&nbsp;&nbsp;&nbsp;(1)</span>"
      ],
      "text/plain": [
       "<IPython.core.display.Markdown object>"
      ]
     },
     "metadata": {},
     "output_type": "display_data"
    },
    {
     "data": {
      "text/markdown": [
       "<span style=\"color: blue\">&nbsp;&nbsp;&nbsp;&nbsp;&nbsp;&nbsp;&nbsp;&nbsp;&nbsp;&nbsp;&nbsp;&nbsp;&nbsp;&nbsp;&nbsp;&nbsp;&nbsp;&nbsp;&nbsp;(2)</span>"
      ],
      "text/plain": [
       "<IPython.core.display.Markdown object>"
      ]
     },
     "metadata": {},
     "output_type": "display_data"
    },
    {
     "data": {
      "text/markdown": [
       "<span style=\"color: #33ffbd\">&nbsp;&nbsp;&nbsp;&nbsp;&nbsp;&nbsp;&nbsp;&nbsp;&nbsp;&nbsp;&nbsp;&nbsp;&nbsp;&nbsp;&nbsp;&nbsp;&nbsp;&nbsp;&nbsp;&nbsp;&nbsp;&nbsp;&nbsp;&nbsp;&nbsp;&nbsp;&nbsp;&nbsp;&nbsp;&nbsp;&nbsp;&nbsp;&nbsp;&nbsp;&nbsp;&nbsp;&nbsp;&nbsp;&nbsp;(3)</span>"
      ],
      "text/plain": [
       "<IPython.core.display.Markdown object>"
      ]
     },
     "metadata": {},
     "output_type": "display_data"
    },
    {
     "data": {
      "text/markdown": [
       "<span style=\"color: orange\">(4)</span>"
      ],
      "text/plain": [
       "<IPython.core.display.Markdown object>"
      ]
     },
     "metadata": {},
     "output_type": "display_data"
    },
    {
     "data": {
      "text/markdown": [
       "<span style=\"color: yellow\">&nbsp;&nbsp;&nbsp;&nbsp;(5)</span>"
      ],
      "text/plain": [
       "<IPython.core.display.Markdown object>"
      ]
     },
     "metadata": {},
     "output_type": "display_data"
    },
    {
     "data": {
      "text/markdown": [
       "<span style=\"color: blue\">&nbsp;&nbsp;&nbsp;&nbsp;(6)</span>"
      ],
      "text/plain": [
       "<IPython.core.display.Markdown object>"
      ]
     },
     "metadata": {},
     "output_type": "display_data"
    },
    {
     "data": {
      "text/markdown": [
       "<span style=\"color: #33ffbd\">&nbsp;&nbsp;&nbsp;&nbsp;&nbsp;&nbsp;&nbsp;&nbsp;&nbsp;&nbsp;&nbsp;&nbsp;&nbsp;&nbsp;(7)</span>"
      ],
      "text/plain": [
       "<IPython.core.display.Markdown object>"
      ]
     },
     "metadata": {},
     "output_type": "display_data"
    },
    {
     "data": {
      "text/markdown": [
       "<span style=\"color: orange\">(8)</span>"
      ],
      "text/plain": [
       "<IPython.core.display.Markdown object>"
      ]
     },
     "metadata": {},
     "output_type": "display_data"
    },
    {
     "data": {
      "text/markdown": [
       "<span style=\"color: yellow\">&nbsp;&nbsp;&nbsp;&nbsp;&nbsp;&nbsp;&nbsp;&nbsp;&nbsp;&nbsp;&nbsp;&nbsp;&nbsp;&nbsp;&nbsp;&nbsp;&nbsp;&nbsp;&nbsp;&nbsp;&nbsp;&nbsp;&nbsp;&nbsp;&nbsp;&nbsp;&nbsp;&nbsp;&nbsp;&nbsp;&nbsp;&nbsp;&nbsp;&nbsp;&nbsp;&nbsp;&nbsp;&nbsp;&nbsp;&nbsp;&nbsp;&nbsp;&nbsp;&nbsp;(9)</span>"
      ],
      "text/plain": [
       "<IPython.core.display.Markdown object>"
      ]
     },
     "metadata": {},
     "output_type": "display_data"
    }
   ],
   "source": [
    "# создадим функцию пушки которая будет стрелять шарами для некого эксперимента\n",
    "def pushka_push(theball,pos):\n",
    "    \"\"\"Функция пушки выстреливающими шарами на дистанцию\"\"\"\n",
    "    theball.update_pos(pos)\n",
    "    theball.fire()\n",
    "\n",
    "# и мы можем сейчас реализовать это все в цикле\n",
    "arr_color = ['#ff5733','blue','#33ffbd','orange','yellow']\n",
    "balls = []\n",
    "for n in range(1,10):\n",
    "    k = n - 1\n",
    "    if k > 4:\n",
    "        k = k - 4\n",
    "    balls.append(BallWithPosition(n,arr_color[k]))\n",
    "    balls[n-1].speed(100)\n",
    "    pos = random.randint(0,10) * 5\n",
    "    pushka_push(balls[n-1],pos)\n"
   ]
  },
  {
   "cell_type": "markdown",
   "metadata": {},
   "source": [
    "Шарики разлетелись у нас хорошо!  \n",
    "Вместо шаров могли быть некие объекты содержащие вычислетельные данные "
   ]
  },
  {
   "cell_type": "code",
   "execution_count": null,
   "metadata": {},
   "outputs": [],
   "source": []
  }
 ],
 "metadata": {
  "kernelspec": {
   "display_name": "Python 3",
   "language": "python",
   "name": "python3"
  },
  "language_info": {
   "codemirror_mode": {
    "name": "ipython",
    "version": 3
   },
   "file_extension": ".py",
   "mimetype": "text/x-python",
   "name": "python",
   "nbconvert_exporter": "python",
   "pygments_lexer": "ipython3",
   "version": "3.7.6"
  }
 },
 "nbformat": 4,
 "nbformat_minor": 2
}
